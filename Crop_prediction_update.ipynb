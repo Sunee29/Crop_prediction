{
 "cells": [
  {
   "cell_type": "code",
   "execution_count": 1,
   "id": "5b76d2e5",
   "metadata": {},
   "outputs": [],
   "source": [
    "import pandas as pd\n",
    "import numpy as np\n",
    "import seaborn as sns\n",
    "import matplotlib.pyplot as plt\n",
    "from sklearn import metrics\n",
    "from sklearn.metrics import classification_report\n",
    "from sklearn import tree\n",
    "import warnings\n",
    "warnings.filterwarnings('ignore')"
   ]
  },
  {
   "cell_type": "code",
   "execution_count": 2,
   "id": "31bfed3d",
   "metadata": {},
   "outputs": [],
   "source": [
    "df = pd.read_csv(\"D:/Crop_classification/Crop_recommendation.csv\")"
   ]
  },
  {
   "cell_type": "code",
   "execution_count": 3,
   "id": "521f975c",
   "metadata": {},
   "outputs": [
    {
     "data": {
      "text/html": [
       "<div>\n",
       "<style scoped>\n",
       "    .dataframe tbody tr th:only-of-type {\n",
       "        vertical-align: middle;\n",
       "    }\n",
       "\n",
       "    .dataframe tbody tr th {\n",
       "        vertical-align: top;\n",
       "    }\n",
       "\n",
       "    .dataframe thead th {\n",
       "        text-align: right;\n",
       "    }\n",
       "</style>\n",
       "<table border=\"1\" class=\"dataframe\">\n",
       "  <thead>\n",
       "    <tr style=\"text-align: right;\">\n",
       "      <th></th>\n",
       "      <th>N</th>\n",
       "      <th>P</th>\n",
       "      <th>K</th>\n",
       "      <th>temperature</th>\n",
       "      <th>humidity</th>\n",
       "      <th>ph</th>\n",
       "      <th>rainfall</th>\n",
       "      <th>label</th>\n",
       "    </tr>\n",
       "  </thead>\n",
       "  <tbody>\n",
       "    <tr>\n",
       "      <th>0</th>\n",
       "      <td>90</td>\n",
       "      <td>42</td>\n",
       "      <td>43</td>\n",
       "      <td>20.879744</td>\n",
       "      <td>82.002744</td>\n",
       "      <td>6.502985</td>\n",
       "      <td>202.935536</td>\n",
       "      <td>rice</td>\n",
       "    </tr>\n",
       "    <tr>\n",
       "      <th>1</th>\n",
       "      <td>85</td>\n",
       "      <td>58</td>\n",
       "      <td>41</td>\n",
       "      <td>21.770462</td>\n",
       "      <td>80.319644</td>\n",
       "      <td>7.038096</td>\n",
       "      <td>226.655537</td>\n",
       "      <td>rice</td>\n",
       "    </tr>\n",
       "    <tr>\n",
       "      <th>2</th>\n",
       "      <td>60</td>\n",
       "      <td>55</td>\n",
       "      <td>44</td>\n",
       "      <td>23.004459</td>\n",
       "      <td>82.320763</td>\n",
       "      <td>7.840207</td>\n",
       "      <td>263.964248</td>\n",
       "      <td>rice</td>\n",
       "    </tr>\n",
       "    <tr>\n",
       "      <th>3</th>\n",
       "      <td>74</td>\n",
       "      <td>35</td>\n",
       "      <td>40</td>\n",
       "      <td>26.491096</td>\n",
       "      <td>80.158363</td>\n",
       "      <td>6.980401</td>\n",
       "      <td>242.864034</td>\n",
       "      <td>rice</td>\n",
       "    </tr>\n",
       "    <tr>\n",
       "      <th>4</th>\n",
       "      <td>78</td>\n",
       "      <td>42</td>\n",
       "      <td>42</td>\n",
       "      <td>20.130175</td>\n",
       "      <td>81.604873</td>\n",
       "      <td>7.628473</td>\n",
       "      <td>262.717340</td>\n",
       "      <td>rice</td>\n",
       "    </tr>\n",
       "  </tbody>\n",
       "</table>\n",
       "</div>"
      ],
      "text/plain": [
       "    N   P   K  temperature   humidity        ph    rainfall label\n",
       "0  90  42  43    20.879744  82.002744  6.502985  202.935536  rice\n",
       "1  85  58  41    21.770462  80.319644  7.038096  226.655537  rice\n",
       "2  60  55  44    23.004459  82.320763  7.840207  263.964248  rice\n",
       "3  74  35  40    26.491096  80.158363  6.980401  242.864034  rice\n",
       "4  78  42  42    20.130175  81.604873  7.628473  262.717340  rice"
      ]
     },
     "execution_count": 3,
     "metadata": {},
     "output_type": "execute_result"
    }
   ],
   "source": [
    "df.head()"
   ]
  },
  {
   "cell_type": "code",
   "execution_count": 4,
   "id": "b0047a3a",
   "metadata": {},
   "outputs": [
    {
     "data": {
      "text/plain": [
       "(2200, 8)"
      ]
     },
     "execution_count": 4,
     "metadata": {},
     "output_type": "execute_result"
    }
   ],
   "source": [
    "df.shape"
   ]
  },
  {
   "cell_type": "code",
   "execution_count": 5,
   "id": "38335717",
   "metadata": {},
   "outputs": [
    {
     "data": {
      "text/plain": [
       "Index(['N', 'P', 'K', 'temperature', 'humidity', 'ph', 'rainfall', 'label'], dtype='object')"
      ]
     },
     "execution_count": 5,
     "metadata": {},
     "output_type": "execute_result"
    }
   ],
   "source": [
    "df.columns"
   ]
  },
  {
   "cell_type": "code",
   "execution_count": 6,
   "id": "f6545f33",
   "metadata": {},
   "outputs": [
    {
     "data": {
      "text/plain": [
       "array(['rice', 'maize', 'chickpea', 'kidneybeans', 'pigeonpeas',\n",
       "       'mothbeans', 'mungbean', 'blackgram', 'lentil', 'pomegranate',\n",
       "       'banana', 'mango', 'grapes', 'watermelon', 'muskmelon', 'apple',\n",
       "       'orange', 'papaya', 'coconut', 'cotton', 'jute', 'coffee'],\n",
       "      dtype=object)"
      ]
     },
     "execution_count": 6,
     "metadata": {},
     "output_type": "execute_result"
    }
   ],
   "source": [
    "df[\"label\"].unique()"
   ]
  },
  {
   "cell_type": "code",
   "execution_count": 7,
   "id": "fba2715f",
   "metadata": {},
   "outputs": [],
   "source": [
    "features = df[['N', 'P','K','temperature', 'humidity', 'ph', 'rainfall']]\n",
    "target = df['label']\n",
    "labels = df['label']"
   ]
  },
  {
   "cell_type": "code",
   "execution_count": 8,
   "id": "1e87c25a",
   "metadata": {},
   "outputs": [],
   "source": [
    "from sklearn.preprocessing import LabelEncoder\n",
    "lb = LabelEncoder()\n",
    "target = lb.fit_transform(target)"
   ]
  },
  {
   "cell_type": "code",
   "execution_count": 9,
   "id": "067c977c",
   "metadata": {},
   "outputs": [
    {
     "data": {
      "text/plain": [
       "(2200, 7)"
      ]
     },
     "execution_count": 9,
     "metadata": {},
     "output_type": "execute_result"
    }
   ],
   "source": [
    "features.shape"
   ]
  },
  {
   "cell_type": "code",
   "execution_count": 10,
   "id": "02ae0cd4",
   "metadata": {},
   "outputs": [],
   "source": [
    "from sklearn.model_selection import train_test_split\n",
    "Xtrain, Xtest, Ytrain, Ytest = train_test_split(features,target,test_size=0.2,random_state=5)"
   ]
  },
  {
   "cell_type": "code",
   "execution_count": 11,
   "id": "a6cc4b84",
   "metadata": {},
   "outputs": [],
   "source": [
    "from keras.models import Sequential\n",
    "from keras.layers import Dense\n",
    "from keras.models import Model\n",
    "from keras.layers import *"
   ]
  },
  {
   "cell_type": "code",
   "execution_count": 12,
   "id": "db224054",
   "metadata": {},
   "outputs": [
    {
     "data": {
      "text/plain": [
       "(1760, 7)"
      ]
     },
     "execution_count": 12,
     "metadata": {},
     "output_type": "execute_result"
    }
   ],
   "source": [
    "Xtrain.shape"
   ]
  },
  {
   "cell_type": "code",
   "execution_count": 13,
   "id": "87c0aa0a",
   "metadata": {},
   "outputs": [],
   "source": [
    "from sklearn.preprocessing import StandardScaler\n",
    "sc = StandardScaler()\n",
    "Xtrain = sc.fit_transform(Xtrain)\n",
    "Xtest = sc.transform(Xtest)"
   ]
  },
  {
   "cell_type": "code",
   "execution_count": 14,
   "id": "369e5910",
   "metadata": {},
   "outputs": [
    {
     "data": {
      "text/plain": [
       "(7,)"
      ]
     },
     "execution_count": 14,
     "metadata": {},
     "output_type": "execute_result"
    }
   ],
   "source": [
    "Xtrain[0].shape"
   ]
  },
  {
   "cell_type": "code",
   "execution_count": 15,
   "id": "13b9395f",
   "metadata": {},
   "outputs": [
    {
     "name": "stdout",
     "output_type": "stream",
     "text": [
      "Model: \"model\"\n",
      "_________________________________________________________________\n",
      " Layer (type)                Output Shape              Param #   \n",
      "=================================================================\n",
      " input_1 (InputLayer)        [(None, 7)]               0         \n",
      "                                                                 \n",
      " dense (Dense)               (None, 100)               800       \n",
      "                                                                 \n",
      " dense_1 (Dense)             (None, 50)                5050      \n",
      "                                                                 \n",
      " dense_2 (Dense)             (None, 22)                1122      \n",
      "                                                                 \n",
      "=================================================================\n",
      "Total params: 6,972\n",
      "Trainable params: 6,972\n",
      "Non-trainable params: 0\n",
      "_________________________________________________________________\n",
      "Epoch 1/100\n",
      "55/55 [==============================] - 1s 2ms/step - loss: 2.7079 - accuracy: 0.3227\n",
      "Epoch 2/100\n",
      "55/55 [==============================] - 0s 2ms/step - loss: 1.7110 - accuracy: 0.7119\n",
      "Epoch 3/100\n",
      "55/55 [==============================] - 0s 2ms/step - loss: 0.8774 - accuracy: 0.8352\n",
      "Epoch 4/100\n",
      "55/55 [==============================] - 0s 2ms/step - loss: 0.5140 - accuracy: 0.8892\n",
      "Epoch 5/100\n",
      "55/55 [==============================] - 0s 2ms/step - loss: 0.3550 - accuracy: 0.9335\n",
      "Epoch 6/100\n",
      "55/55 [==============================] - 0s 2ms/step - loss: 0.2691 - accuracy: 0.9398\n",
      "Epoch 7/100\n",
      "55/55 [==============================] - 0s 2ms/step - loss: 0.2256 - accuracy: 0.9477\n",
      "Epoch 8/100\n",
      "55/55 [==============================] - 0s 2ms/step - loss: 0.1835 - accuracy: 0.9585\n",
      "Epoch 9/100\n",
      "55/55 [==============================] - 0s 2ms/step - loss: 0.1603 - accuracy: 0.9585\n",
      "Epoch 10/100\n",
      "55/55 [==============================] - 0s 2ms/step - loss: 0.1394 - accuracy: 0.9631\n",
      "Epoch 11/100\n",
      "55/55 [==============================] - 0s 2ms/step - loss: 0.1285 - accuracy: 0.9636\n",
      "Epoch 12/100\n",
      "55/55 [==============================] - 0s 2ms/step - loss: 0.1157 - accuracy: 0.9670\n",
      "Epoch 13/100\n",
      "55/55 [==============================] - 0s 2ms/step - loss: 0.1056 - accuracy: 0.9733\n",
      "Epoch 14/100\n",
      "55/55 [==============================] - 0s 2ms/step - loss: 0.0984 - accuracy: 0.9722\n",
      "Epoch 15/100\n",
      "55/55 [==============================] - 0s 2ms/step - loss: 0.0900 - accuracy: 0.9733\n",
      "Epoch 16/100\n",
      "55/55 [==============================] - 0s 2ms/step - loss: 0.0888 - accuracy: 0.9750\n",
      "Epoch 17/100\n",
      "55/55 [==============================] - 0s 2ms/step - loss: 0.0804 - accuracy: 0.9801\n",
      "Epoch 18/100\n",
      "55/55 [==============================] - 0s 2ms/step - loss: 0.0760 - accuracy: 0.9778\n",
      "Epoch 19/100\n",
      "55/55 [==============================] - 0s 2ms/step - loss: 0.0718 - accuracy: 0.9790\n",
      "Epoch 20/100\n",
      "55/55 [==============================] - 0s 2ms/step - loss: 0.0633 - accuracy: 0.9830\n",
      "Epoch 21/100\n",
      "55/55 [==============================] - 0s 2ms/step - loss: 0.0601 - accuracy: 0.9801\n",
      "Epoch 22/100\n",
      "55/55 [==============================] - 0s 2ms/step - loss: 0.0612 - accuracy: 0.9812\n",
      "Epoch 23/100\n",
      "55/55 [==============================] - 0s 2ms/step - loss: 0.0549 - accuracy: 0.9830\n",
      "Epoch 24/100\n",
      "55/55 [==============================] - 0s 2ms/step - loss: 0.0591 - accuracy: 0.9812\n",
      "Epoch 25/100\n",
      "55/55 [==============================] - 0s 2ms/step - loss: 0.0506 - accuracy: 0.9892\n",
      "Epoch 26/100\n",
      "55/55 [==============================] - 0s 2ms/step - loss: 0.0517 - accuracy: 0.9835\n",
      "Epoch 27/100\n",
      "55/55 [==============================] - 0s 2ms/step - loss: 0.0474 - accuracy: 0.9864\n",
      "Epoch 28/100\n",
      "55/55 [==============================] - 0s 2ms/step - loss: 0.0502 - accuracy: 0.9830\n",
      "Epoch 29/100\n",
      "55/55 [==============================] - 0s 2ms/step - loss: 0.0460 - accuracy: 0.9864\n",
      "Epoch 30/100\n",
      "55/55 [==============================] - 0s 2ms/step - loss: 0.0449 - accuracy: 0.9864\n",
      "Epoch 31/100\n",
      "55/55 [==============================] - 0s 2ms/step - loss: 0.0434 - accuracy: 0.9847\n",
      "Epoch 32/100\n",
      "55/55 [==============================] - 0s 2ms/step - loss: 0.0396 - accuracy: 0.9886\n",
      "Epoch 33/100\n",
      "55/55 [==============================] - 0s 2ms/step - loss: 0.0390 - accuracy: 0.9892\n",
      "Epoch 34/100\n",
      "55/55 [==============================] - 0s 2ms/step - loss: 0.0402 - accuracy: 0.9858\n",
      "Epoch 35/100\n",
      "55/55 [==============================] - 0s 2ms/step - loss: 0.0404 - accuracy: 0.9892\n",
      "Epoch 36/100\n",
      "55/55 [==============================] - 0s 2ms/step - loss: 0.0396 - accuracy: 0.9841\n",
      "Epoch 37/100\n",
      "55/55 [==============================] - 0s 2ms/step - loss: 0.0370 - accuracy: 0.9909\n",
      "Epoch 38/100\n",
      "55/55 [==============================] - 0s 2ms/step - loss: 0.0349 - accuracy: 0.9909\n",
      "Epoch 39/100\n",
      "55/55 [==============================] - 0s 2ms/step - loss: 0.0329 - accuracy: 0.9903\n",
      "Epoch 40/100\n",
      "55/55 [==============================] - 0s 2ms/step - loss: 0.0334 - accuracy: 0.9875\n",
      "Epoch 41/100\n",
      "55/55 [==============================] - 0s 2ms/step - loss: 0.0314 - accuracy: 0.9909\n",
      "Epoch 42/100\n",
      "55/55 [==============================] - 0s 2ms/step - loss: 0.0298 - accuracy: 0.9920\n",
      "Epoch 43/100\n",
      "55/55 [==============================] - 0s 2ms/step - loss: 0.0306 - accuracy: 0.9898\n",
      "Epoch 44/100\n",
      "55/55 [==============================] - 0s 2ms/step - loss: 0.0324 - accuracy: 0.9886\n",
      "Epoch 45/100\n",
      "55/55 [==============================] - 0s 2ms/step - loss: 0.0290 - accuracy: 0.9915\n",
      "Epoch 46/100\n",
      "55/55 [==============================] - 0s 2ms/step - loss: 0.0269 - accuracy: 0.9926\n",
      "Epoch 47/100\n",
      "55/55 [==============================] - 0s 2ms/step - loss: 0.0279 - accuracy: 0.9915\n",
      "Epoch 48/100\n",
      "55/55 [==============================] - 0s 2ms/step - loss: 0.0269 - accuracy: 0.9943\n",
      "Epoch 49/100\n",
      "55/55 [==============================] - 0s 2ms/step - loss: 0.0260 - accuracy: 0.9898\n",
      "Epoch 50/100\n",
      "55/55 [==============================] - 0s 2ms/step - loss: 0.0268 - accuracy: 0.9920\n",
      "Epoch 51/100\n",
      "55/55 [==============================] - 0s 2ms/step - loss: 0.0259 - accuracy: 0.9920\n",
      "Epoch 52/100\n",
      "55/55 [==============================] - 0s 2ms/step - loss: 0.0240 - accuracy: 0.9915\n",
      "Epoch 53/100\n",
      "55/55 [==============================] - 0s 2ms/step - loss: 0.0227 - accuracy: 0.9932\n",
      "Epoch 54/100\n",
      "55/55 [==============================] - 0s 2ms/step - loss: 0.0268 - accuracy: 0.9915\n",
      "Epoch 55/100\n",
      "55/55 [==============================] - 0s 2ms/step - loss: 0.0253 - accuracy: 0.9920\n",
      "Epoch 56/100\n",
      "55/55 [==============================] - 0s 2ms/step - loss: 0.0226 - accuracy: 0.9943\n",
      "Epoch 57/100\n",
      "55/55 [==============================] - 0s 2ms/step - loss: 0.0223 - accuracy: 0.9920\n",
      "Epoch 58/100\n",
      "55/55 [==============================] - 0s 2ms/step - loss: 0.0233 - accuracy: 0.9920\n",
      "Epoch 59/100\n",
      "55/55 [==============================] - 0s 2ms/step - loss: 0.0223 - accuracy: 0.9937\n",
      "Epoch 60/100\n",
      "55/55 [==============================] - 0s 2ms/step - loss: 0.0198 - accuracy: 0.9966\n",
      "Epoch 61/100\n",
      "55/55 [==============================] - 0s 2ms/step - loss: 0.0240 - accuracy: 0.9920\n",
      "Epoch 62/100\n",
      "55/55 [==============================] - 0s 2ms/step - loss: 0.0210 - accuracy: 0.9926\n",
      "Epoch 63/100\n",
      "55/55 [==============================] - 0s 2ms/step - loss: 0.0206 - accuracy: 0.9926\n",
      "Epoch 64/100\n",
      "55/55 [==============================] - 0s 2ms/step - loss: 0.0195 - accuracy: 0.9949\n",
      "Epoch 65/100\n",
      "55/55 [==============================] - 0s 2ms/step - loss: 0.0199 - accuracy: 0.9937\n",
      "Epoch 66/100\n",
      "55/55 [==============================] - 0s 2ms/step - loss: 0.0185 - accuracy: 0.9960\n",
      "Epoch 67/100\n",
      "55/55 [==============================] - 0s 2ms/step - loss: 0.0178 - accuracy: 0.9949\n",
      "Epoch 68/100\n",
      "55/55 [==============================] - 0s 2ms/step - loss: 0.0187 - accuracy: 0.9949\n",
      "Epoch 69/100\n",
      "55/55 [==============================] - 0s 2ms/step - loss: 0.0160 - accuracy: 0.9966\n",
      "Epoch 70/100\n",
      "55/55 [==============================] - 0s 2ms/step - loss: 0.0190 - accuracy: 0.9943\n",
      "Epoch 71/100\n",
      "55/55 [==============================] - 0s 2ms/step - loss: 0.0212 - accuracy: 0.9915\n",
      "Epoch 72/100\n",
      "55/55 [==============================] - 0s 2ms/step - loss: 0.0169 - accuracy: 0.9955\n",
      "Epoch 73/100\n"
     ]
    },
    {
     "name": "stdout",
     "output_type": "stream",
     "text": [
      "55/55 [==============================] - 0s 2ms/step - loss: 0.0209 - accuracy: 0.9943\n",
      "Epoch 74/100\n",
      "55/55 [==============================] - 0s 2ms/step - loss: 0.0234 - accuracy: 0.9898\n",
      "Epoch 75/100\n",
      "55/55 [==============================] - 0s 2ms/step - loss: 0.0206 - accuracy: 0.9920\n",
      "Epoch 76/100\n",
      "55/55 [==============================] - 0s 2ms/step - loss: 0.0152 - accuracy: 0.9960\n",
      "Epoch 77/100\n",
      "55/55 [==============================] - 0s 2ms/step - loss: 0.0147 - accuracy: 0.9955\n",
      "Epoch 78/100\n",
      "55/55 [==============================] - 0s 2ms/step - loss: 0.0165 - accuracy: 0.9966\n",
      "Epoch 79/100\n",
      "55/55 [==============================] - 0s 2ms/step - loss: 0.0189 - accuracy: 0.9943\n",
      "Epoch 80/100\n",
      "55/55 [==============================] - 0s 2ms/step - loss: 0.0145 - accuracy: 0.9966\n",
      "Epoch 81/100\n",
      "55/55 [==============================] - 0s 2ms/step - loss: 0.0149 - accuracy: 0.9960\n",
      "Epoch 82/100\n",
      "55/55 [==============================] - 0s 2ms/step - loss: 0.0158 - accuracy: 0.9960\n",
      "Epoch 83/100\n",
      "55/55 [==============================] - 0s 2ms/step - loss: 0.0135 - accuracy: 0.9960\n",
      "Epoch 84/100\n",
      "55/55 [==============================] - 0s 2ms/step - loss: 0.0145 - accuracy: 0.9960\n",
      "Epoch 85/100\n",
      "55/55 [==============================] - 0s 2ms/step - loss: 0.0122 - accuracy: 0.9960\n",
      "Epoch 86/100\n",
      "55/55 [==============================] - 0s 2ms/step - loss: 0.0151 - accuracy: 0.9955\n",
      "Epoch 87/100\n",
      "55/55 [==============================] - 0s 2ms/step - loss: 0.0125 - accuracy: 0.9966\n",
      "Epoch 88/100\n",
      "55/55 [==============================] - 0s 2ms/step - loss: 0.0128 - accuracy: 0.9983\n",
      "Epoch 89/100\n",
      "55/55 [==============================] - 0s 2ms/step - loss: 0.0131 - accuracy: 0.9955\n",
      "Epoch 90/100\n",
      "55/55 [==============================] - 0s 2ms/step - loss: 0.0127 - accuracy: 0.9943\n",
      "Epoch 91/100\n",
      "55/55 [==============================] - 0s 2ms/step - loss: 0.0145 - accuracy: 0.9943\n",
      "Epoch 92/100\n",
      "55/55 [==============================] - 0s 2ms/step - loss: 0.0138 - accuracy: 0.9955\n",
      "Epoch 93/100\n",
      "55/55 [==============================] - 0s 2ms/step - loss: 0.0115 - accuracy: 0.9966\n",
      "Epoch 94/100\n",
      "55/55 [==============================] - 0s 2ms/step - loss: 0.0106 - accuracy: 0.9977\n",
      "Epoch 95/100\n",
      "55/55 [==============================] - 0s 2ms/step - loss: 0.0128 - accuracy: 0.9955\n",
      "Epoch 96/100\n",
      "55/55 [==============================] - 0s 2ms/step - loss: 0.0106 - accuracy: 0.9966\n",
      "Epoch 97/100\n",
      "55/55 [==============================] - 0s 2ms/step - loss: 0.0109 - accuracy: 0.9972\n",
      "Epoch 98/100\n",
      "55/55 [==============================] - 0s 2ms/step - loss: 0.0098 - accuracy: 0.9966\n",
      "Epoch 99/100\n",
      "55/55 [==============================] - 0s 2ms/step - loss: 0.0114 - accuracy: 0.9983\n",
      "Epoch 100/100\n",
      "55/55 [==============================] - 0s 2ms/step - loss: 0.0112 - accuracy: 0.9955\n"
     ]
    },
    {
     "data": {
      "text/plain": [
       "<keras.callbacks.History at 0x2c89cccd910>"
      ]
     },
     "execution_count": 15,
     "metadata": {},
     "output_type": "execute_result"
    }
   ],
   "source": [
    "\n",
    "layer1 = Input(shape = (7,))\n",
    "layer2 = Dense(100, activation = 'relu')(layer1)\n",
    "layer3 = Dense(50,activation = 'relu')(layer2)\n",
    "output = Dense(22,activation = 'sigmoid')(layer3)\n",
    "\n",
    "classifier = Model(inputs = layer1, outputs = output)\n",
    "classifier.summary()\n",
    "classifier.compile(optimizer = 'adam', loss = 'sparse_categorical_crossentropy', metrics = ['accuracy'])\n",
    "classifier.fit(Xtrain, Ytrain, epochs=100, verbose=1)"
   ]
  },
  {
   "cell_type": "code",
   "execution_count": 16,
   "id": "dcab0986",
   "metadata": {},
   "outputs": [
    {
     "name": "stdout",
     "output_type": "stream",
     "text": [
      "14/14 [==============================] - 0s 2ms/step - loss: 0.0256 - accuracy: 0.9909\n"
     ]
    }
   ],
   "source": [
    "accuracy = classifier.evaluate(Xtest,Ytest)"
   ]
  },
  {
   "cell_type": "code",
   "execution_count": 17,
   "id": "c47a913a",
   "metadata": {},
   "outputs": [
    {
     "name": "stdout",
     "output_type": "stream",
     "text": [
      "99.09090995788574\n"
     ]
    }
   ],
   "source": [
    "print(accuracy[1]*100)"
   ]
  },
  {
   "cell_type": "code",
   "execution_count": null,
   "id": "9f1c8111",
   "metadata": {},
   "outputs": [],
   "source": []
  }
 ],
 "metadata": {
  "kernelspec": {
   "display_name": "Python 3 (ipykernel)",
   "language": "python",
   "name": "python3"
  },
  "language_info": {
   "codemirror_mode": {
    "name": "ipython",
    "version": 3
   },
   "file_extension": ".py",
   "mimetype": "text/x-python",
   "name": "python",
   "nbconvert_exporter": "python",
   "pygments_lexer": "ipython3",
   "version": "3.8.13"
  }
 },
 "nbformat": 4,
 "nbformat_minor": 5
}
